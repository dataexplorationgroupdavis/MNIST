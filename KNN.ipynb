{
 "cells": [
  {
   "cell_type": "markdown",
   "metadata": {},
   "source": [
    "#### Using KNN for image classification on MNIST dataset"
   ]
  },
  {
   "cell_type": "code",
   "execution_count": 1,
   "metadata": {},
   "outputs": [],
   "source": [
    "import numpy as np\n",
    "from mnist import MNIST\n",
    "import matplotlib\n",
    "from matplotlib import pyplot as plt\n",
    "%matplotlib inline"
   ]
  },
  {
   "cell_type": "code",
   "execution_count": 5,
   "metadata": {},
   "outputs": [],
   "source": [
    "mndata = MNIST('samples')\n",
    "Xtrain, ytrain = mndata.load_training()\n",
    "Xtest, ytest = mndata.load_testing()"
   ]
  },
  {
   "cell_type": "code",
   "execution_count": 14,
   "metadata": {},
   "outputs": [
    {
     "name": "stdout",
     "output_type": "stream",
     "text": [
      "Train: 60000,60000, Test: 10000,10000\n"
     ]
    }
   ],
   "source": [
    "print((\"Train: {},{}, Test: {},{}\").format(len(Xtrain), len(ytrain), len(Xtest), len(ytest)))"
   ]
  },
  {
   "cell_type": "code",
   "execution_count": 15,
   "metadata": {},
   "outputs": [],
   "source": [
    "XtrainNew = np.stack(Xtrain)\n",
    "XtestNew = np.stack(Xtest)"
   ]
  },
  {
   "cell_type": "code",
   "execution_count": 16,
   "metadata": {},
   "outputs": [
    {
     "name": "stdout",
     "output_type": "stream",
     "text": [
      "train: (60000, 784), test: (10000, 784)\n"
     ]
    }
   ],
   "source": [
    "print((\"train: {}, test: {}\").format(XtrainNew.shape, XtestNew.shape))"
   ]
  },
  {
   "cell_type": "code",
   "execution_count": 17,
   "metadata": {
    "collapsed": true
   },
   "outputs": [],
   "source": [
    "from scipy.spatial import distance"
   ]
  },
  {
   "cell_type": "code",
   "execution_count": 28,
   "metadata": {
    "collapsed": true
   },
   "outputs": [],
   "source": [
    "# def run_knn(Xtrain, Xtest, ytrain, ytest):\n",
    "#     '''\n",
    "#     We use knn algorithm to train the model and calculate the accuracy\n",
    "#     '''\n",
    "#     count = 0\n",
    "#     result = []\n",
    "#     for i in range(len(Xtest)):\n",
    "#         x1 = Xtest[i]\n",
    "#         dist = []\n",
    "#         for x2 in Xtrain:\n",
    "#             tempdist = distance.euclidean(x1,x2)\n",
    "#             dist.append(tempdist)\n",
    "#         dist = np.array(dist)\n",
    "#         minIndex = np.argmin(dist)\n",
    "#         result.append(ytrain[minIndex])\n",
    "#         if ytrain[minIndex] == ytest[i]:\n",
    "#             count += 1\n",
    "    \n",
    "#     return(count/float(len(ytest)))"
   ]
  },
  {
   "cell_type": "code",
   "execution_count": 29,
   "metadata": {
    "collapsed": true
   },
   "outputs": [],
   "source": [
    "from sklearn.neighbors import KNeighborsClassifier"
   ]
  },
  {
   "cell_type": "code",
   "execution_count": 67,
   "metadata": {
    "collapsed": true
   },
   "outputs": [],
   "source": [
    "knnModel = KNeighborsClassifier(n_neighbors=5, n_jobs=4)"
   ]
  },
  {
   "cell_type": "code",
   "execution_count": 68,
   "metadata": {
    "collapsed": true
   },
   "outputs": [],
   "source": [
    "from time import time"
   ]
  },
  {
   "cell_type": "code",
   "execution_count": 69,
   "metadata": {},
   "outputs": [
    {
     "name": "stdout",
     "output_type": "stream",
     "text": [
      "time spent: 25.377601861953735s\n"
     ]
    }
   ],
   "source": [
    "starttime = time()\n",
    "knnModel.fit(Xtrain, ytrain)\n",
    "print(('time spent: {}s').format(time() - starttime))"
   ]
  },
  {
   "cell_type": "code",
   "execution_count": 70,
   "metadata": {},
   "outputs": [
    {
     "name": "stdout",
     "output_type": "stream",
     "text": [
      "time spent: 220.70874500274658s\n"
     ]
    }
   ],
   "source": [
    "starttime = time()\n",
    "pred = knnModel.predict(Xtest)\n",
    "print(('time spent: {}s').format(time() - starttime))"
   ]
  },
  {
   "cell_type": "code",
   "execution_count": 71,
   "metadata": {},
   "outputs": [
    {
     "data": {
      "text/plain": [
       "0.96879999999999999"
      ]
     },
     "execution_count": 71,
     "metadata": {},
     "output_type": "execute_result"
    }
   ],
   "source": [
    "sum(pred == np.array(ytest))/float(len(ytest))"
   ]
  },
  {
   "cell_type": "code",
   "execution_count": 72,
   "metadata": {},
   "outputs": [],
   "source": [
    "residuleIndex = pred != np.array(ytest)"
   ]
  },
  {
   "cell_type": "code",
   "execution_count": 87,
   "metadata": {},
   "outputs": [],
   "source": [
    "from itertools import compress\n",
    "residuleList = list(compress(Xtest, residuleIndex))\n",
    "predList = list(compress(pred, residuleIndex))\n",
    "actualList = list(compress(ytest, residuleIndex))"
   ]
  },
  {
   "cell_type": "code",
   "execution_count": 103,
   "metadata": {
    "collapsed": true
   },
   "outputs": [],
   "source": [
    "def plotNumber(X):\n",
    "    \"\"\"\n",
    "    input: pixels as a list\n",
    "    \"\"\"\n",
    "    newarray = np.array(X).reshape(28,28)\n",
    "    plt.imshow(newarray)"
   ]
  },
  {
   "cell_type": "code",
   "execution_count": 126,
   "metadata": {
    "collapsed": true
   },
   "outputs": [],
   "source": [
    "def plotRes(X, k=1):\n",
    "    '''\n",
    "    input piexels as a list, the number of nearest points\n",
    "    \n",
    "    this function will plot out the images which are near the given one\n",
    "    '''\n",
    "    dists = []\n",
    "    for x in Xtrain:\n",
    "        dists.append(distance.euclidean(x,X))\n",
    "    dists = np.array(dists)\n",
    "    wheremax = np.argsort(dists)\n",
    "    for i in range(k):\n",
    "        plt.subplot(1,k,i+1)\n",
    "        plotNumber(Xtrain[wheremax[i]])"
   ]
  },
  {
   "cell_type": "code",
   "execution_count": 110,
   "metadata": {},
   "outputs": [
    {
     "name": "stdout",
     "output_type": "stream",
     "text": [
      "we predicted it as 0, the actual tag is 4\n"
     ]
    },
    {
     "data": {
      "image/png": "[encoded data removed]",
      "text/plain": [
       "<matplotlib.figure.Figure at 0x1170eee48>"
      ]
     },
     "metadata": {},
     "output_type": "display_data"
    }
   ],
   "source": [
    "print((\"we predicted it as {}, the actual tag is {}\").format(predList[0], actualList[0]))\n",
    "plotNumber(residuleList[0])"
   ]
  },
  {
   "cell_type": "code",
   "execution_count": 127,
   "metadata": {},
   "outputs": [
    {
     "data": {
      "image/png": "[encoded data removed]",
      "text/plain": [
       "<matplotlib.figure.Figure at 0x1178bd1d0>"
      ]
     },
     "metadata": {},
     "output_type": "display_data"
    }
   ],
   "source": [
    "plotRes(residuleList[0], k=5)"
   ]
  },
  {
   "cell_type": "code",
   "execution_count": 95,
   "metadata": {},
   "outputs": [
    {
     "name": "stdout",
     "output_type": "stream",
     "text": [
      "we predicted it as 9, the actual tag is 4\n"
     ]
    },
    {
     "data": {
      "image/png": "[encoded data removed]",
      "text/plain": [
       "<matplotlib.figure.Figure at 0x116d5e400>"
      ]
     },
     "metadata": {},
     "output_type": "display_data"
    }
   ],
   "source": [
    "print((\"we predicted it as {}, the actual tag is {}\").format(predList[1], actualList[1]))\n",
    "plotNumber(residuleList[1])"
   ]
  },
  {
   "cell_type": "code",
   "execution_count": 96,
   "metadata": {},
   "outputs": [
    {
     "name": "stdout",
     "output_type": "stream",
     "text": [
      "we predicted it as 1, the actual tag is 3\n"
     ]
    },
    {
     "data": {
      "image/png": "[encoded data removed]",
      "text/plain": [
       "<matplotlib.figure.Figure at 0x116dab4a8>"
      ]
     },
     "metadata": {},
     "output_type": "display_data"
    }
   ],
   "source": [
    "print((\"we predicted it as {}, the actual tag is {}\").format(predList[2], actualList[2]))\n",
    "plotNumber(residuleList[2])"
   ]
  },
  {
   "cell_type": "code",
   "execution_count": 97,
   "metadata": {},
   "outputs": [
    {
     "name": "stdout",
     "output_type": "stream",
     "text": [
      "we predicted it as 8, the actual tag is 9\n"
     ]
    },
    {
     "data": {
      "image/png": "[encoded data removed]",
      "text/plain": [
       "<matplotlib.figure.Figure at 0x116eda470>"
      ]
     },
     "metadata": {},
     "output_type": "display_data"
    }
   ],
   "source": [
    "print((\"we predicted it as {}, the actual tag is {}\").format(predList[3], actualList[3]))\n",
    "plotNumber(residuleList[3])"
   ]
  },
  {
   "cell_type": "code",
   "execution_count": null,
   "metadata": {
    "collapsed": true
   },
   "outputs": [],
   "source": []
  }
 ],
 "metadata": {
  "kernelspec": {
   "display_name": "Python 3",
   "language": "python",
   "name": "python3"
  },
  "language_info": {
   "codemirror_mode": {
    "name": "ipython",
    "version": 3
   },
   "file_extension": ".py",
   "mimetype": "text/x-python",
   "name": "python",
   "nbconvert_exporter": "python",
   "pygments_lexer": "ipython3",
   "version": "3.6.3"
  }
 },
 "nbformat": 4,
 "nbformat_minor": 2
}
