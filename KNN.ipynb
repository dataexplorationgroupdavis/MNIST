{
 "cells": [
  {
   "cell_type": "markdown",
   "metadata": {},
   "source": [
    "#### Using KNN for image classification on MNIST dataset"
   ]
  },
  {
   "cell_type": "code",
   "execution_count": 1,
   "metadata": {},
   "outputs": [],
   "source": [
    "import numpy as np\n",
    "from mnist import MNIST\n",
    "import matplotlib\n",
    "from matplotlib import pyplot as plt\n",
    "%matplotlib inline"
   ]
  },
  {
   "cell_type": "code",
   "execution_count": 5,
   "metadata": {},
   "outputs": [],
   "source": [
    "mndata = MNIST('samples')\n",
    "Xtrain, ytrain = mndata.load_training()\n",
    "Xtest, ytest = mndata.load_testing()"
   ]
  },
  {
   "cell_type": "code",
   "execution_count": 14,
   "metadata": {},
   "outputs": [
    {
     "name": "stdout",
     "output_type": "stream",
     "text": [
      "Train: 60000,60000, Test: 10000,10000\n"
     ]
    }
   ],
   "source": [
    "print((\"Train: {},{}, Test: {},{}\").format(len(Xtrain), len(ytrain), len(Xtest), len(ytest)))"
   ]
  },
  {
   "cell_type": "code",
   "execution_count": 15,
   "metadata": {},
   "outputs": [],
   "source": [
    "XtrainNew = np.stack(Xtrain)\n",
    "XtestNew = np.stack(Xtest)"
   ]
  },
  {
   "cell_type": "code",
   "execution_count": 16,
   "metadata": {},
   "outputs": [
    {
     "name": "stdout",
     "output_type": "stream",
     "text": [
      "train: (60000, 784), test: (10000, 784)\n"
     ]
    }
   ],
   "source": [
    "print((\"train: {}, test: {}\").format(XtrainNew.shape, XtestNew.shape))"
   ]
  },
  {
   "cell_type": "code",
   "execution_count": 17,
   "metadata": {
    "collapsed": true
   },
   "outputs": [],
   "source": [
    "from scipy.spatial import distance"
   ]
  },
  {
   "cell_type": "code",
   "execution_count": 28,
   "metadata": {
    "collapsed": true
   },
   "outputs": [],
   "source": [
    "# def run_knn(Xtrain, Xtest, ytrain, ytest):\n",
    "#     '''\n",
    "#     We use knn algorithm to train the model and calculate the accuracy\n",
    "#     '''\n",
    "#     count = 0\n",
    "#     result = []\n",
    "#     for i in range(len(Xtest)):\n",
    "#         x1 = Xtest[i]\n",
    "#         dist = []\n",
    "#         for x2 in Xtrain:\n",
    "#             tempdist = distance.euclidean(x1,x2)\n",
    "#             dist.append(tempdist)\n",
    "#         dist = np.array(dist)\n",
    "#         minIndex = np.argmin(dist)\n",
    "#         result.append(ytrain[minIndex])\n",
    "#         if ytrain[minIndex] == ytest[i]:\n",
    "#             count += 1\n",
    "    \n",
    "#     return(count/float(len(ytest)))"
   ]
  },
  {
   "cell_type": "code",
   "execution_count": 29,
   "metadata": {
    "collapsed": true
   },
   "outputs": [],
   "source": [
    "from sklearn.neighbors import KNeighborsClassifier"
   ]
  },
  {
   "cell_type": "code",
   "execution_count": 57,
   "metadata": {
    "collapsed": true
   },
   "outputs": [],
   "source": [
    "knnModel = KNeighborsClassifier(n_neighbors=1, n_jobs=4)"
   ]
  },
  {
   "cell_type": "code",
   "execution_count": 58,
   "metadata": {
    "collapsed": true
   },
   "outputs": [],
   "source": [
    "from time import time"
   ]
  },
  {
   "cell_type": "code",
   "execution_count": 59,
   "metadata": {},
   "outputs": [
    {
     "name": "stdout",
     "output_type": "stream",
     "text": [
      "time spent: 25.32234811782837s\n"
     ]
    }
   ],
   "source": [
    "starttime = time()\n",
    "knnModel.fit(Xtrain, ytrain)\n",
    "print(('time spent: {}s').format(time() - starttime))"
   ]
  },
  {
   "cell_type": "code",
   "execution_count": 60,
   "metadata": {},
   "outputs": [
    {
     "name": "stdout",
     "output_type": "stream",
     "text": [
      "time spent: 206.21600103378296s\n"
     ]
    }
   ],
   "source": [
    "starttime = time()\n",
    "pred = knnModel.predict(Xtest)\n",
    "print(('time spent: {}s').format(time() - starttime))"
   ]
  },
  {
   "cell_type": "code",
   "execution_count": 63,
   "metadata": {},
   "outputs": [
    {
     "data": {
      "text/plain": [
       "0.96909999999999996"
      ]
     },
     "execution_count": 63,
     "metadata": {},
     "output_type": "execute_result"
    }
   ],
   "source": [
    "sum(pred == np.array(ytest))/float(len(ytest))"
   ]
  },
  {
   "cell_type": "code",
   "execution_count": null,
   "metadata": {
    "collapsed": true
   },
   "outputs": [],
   "source": []
  }
 ],
 "metadata": {
  "kernelspec": {
   "display_name": "Python 3",
   "language": "python",
   "name": "python3"
  },
  "language_info": {
   "codemirror_mode": {
    "name": "ipython",
    "version": 3
   },
   "file_extension": ".py",
   "mimetype": "text/x-python",
   "name": "python",
   "nbconvert_exporter": "python",
   "pygments_lexer": "ipython3",
   "version": "3.6.3"
  }
 },
 "nbformat": 4,
 "nbformat_minor": 2
}
